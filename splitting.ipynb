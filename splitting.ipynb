{
 "cells": [
  {
   "cell_type": "code",
   "execution_count": null,
   "id": "b04c1bd6",
   "metadata": {},
   "outputs": [],
   "source": [
    "%pip install -qU langchain_community beautifulsoup4"
   ]
  },
  {
   "cell_type": "code",
   "execution_count": 3,
   "id": "901ede6c",
   "metadata": {},
   "outputs": [
    {
     "name": "stderr",
     "output_type": "stream",
     "text": [
      "USER_AGENT environment variable not set, consider setting it to identify your requests.\n"
     ]
    }
   ],
   "source": [
    "from langchain_community.document_loaders import WebBaseLoader\n",
    "\n",
    "loader = WebBaseLoader([\"https://chameleoncloud.readthedocs.io/en/latest/\",\"https://chameleoncloud.readthedocs.io/en/latest/getting-started/index.html\", \"https://chameleoncloud.org/learn/frequently-asked-questions/\"])\n",
    "docs = loader.load()"
   ]
  },
  {
   "cell_type": "code",
   "execution_count": null,
   "id": "10aa7023",
   "metadata": {},
   "outputs": [],
   "source": [
    "from langchain_text_splitters import RecursiveCharacterTextSplitter\n",
    "\n",
    "text_splitter = RecursiveCharacterTextSplitter(chunk_size = 1000, chunk_overlap = 200, separators= [\"\\n# \", \"\\n## \", \"\\n### \", \"\\n#### \", \"\\n\", \" \", \"\"])\n",
    "chunks = text_splitter.split_documents(docs)\n",
    "\n",
    "for chunk in chunks: \n",
    "    print(f\"chunk {chunks.index(chunk)} size: {len(chunk.page_content)} \")\n"
   ]
  },
  {
   "cell_type": "code",
   "execution_count": 10,
   "id": "540f5c20",
   "metadata": {},
   "outputs": [
    {
     "name": "stdout",
     "output_type": "stream",
     "text": [
      "\n",
      "end of chunk 4:\n",
      "a analysis\n",
      "\n",
      "\n",
      "\n",
      "\n",
      "\n",
      "Quick Navigation\n",
      "\n",
      "Core Workflow\n",
      "Discover resources - Find the right hardware for your experiment\n",
      "Make reservations - Reserve nodes and networks\n",
      "Launch instances - Deploy your experimental environment\n",
      "Monitor and collect data - Measure performance and energy usage\n",
      "\n",
      "\n",
      "Advanced Features\n",
      "\n",
      "start of chunk 5:\n",
      "t\n",
      "Networking - Advanced network topologies and isolation\n",
      "FPGA programming - Hardware acceleration experiments\n",
      "Share your work - Publish experiments via Trovi\n",
      "\n",
      "\n",
      "Data & Storage\n",
      "Object storage - Scalable data storage and sharing\n",
      "Shared file systems - NFS-mounted storage for instances\n",
      "KVM instances - Traditional virtual machines when needed\n",
      "\n",
      "\n",
      "Getting Help\n",
      "Help desk - Submit tickets and view system status\n",
      "User profile - Manage your account settings\n",
      "Daypass access - Temporary access for artifact reproduction\n",
      "\n",
      "\n",
      "\n",
      "\n",
      "\n",
      "About the Testbed\n",
      "Chameleon operates multiple sites providing different capabilities:\n",
      "Core Sites:\n"
     ]
    }
   ],
   "source": [
    "#end of chunk 0\n",
    "print(\"\\nend of chunk 4:\")\n",
    "print(chunks[3].page_content[-300:])\n",
    "\n",
    "#start of chunk 1\n",
    "print(\"\\nstart of chunk 5:\")\n",
    "print(chunks[4].page_content[300:])"
   ]
  }
 ],
 "metadata": {
  "kernelspec": {
   "display_name": "myenv",
   "language": "python",
   "name": "python3"
  },
  "language_info": {
   "codemirror_mode": {
    "name": "ipython",
    "version": 3
   },
   "file_extension": ".py",
   "mimetype": "text/x-python",
   "name": "python",
   "nbconvert_exporter": "python",
   "pygments_lexer": "ipython3",
   "version": "3.11.7"
  }
 },
 "nbformat": 4,
 "nbformat_minor": 5
}
